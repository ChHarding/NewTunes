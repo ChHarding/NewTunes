{
 "cells": [
  {
   "cell_type": "code",
   "execution_count": 65,
   "metadata": {},
   "outputs": [
    {
     "name": "stdout",
     "output_type": "stream",
     "text": [
      "<Response [200]>\n",
      "{'error': 'invalid_grant', 'error_description': 'Authorization code expired'}\n"
     ]
    },
    {
     "ename": "KeyError",
     "evalue": "'AQA1Vzo1bjaWjGQ3ceXNJBv2XdpNrlQWpCBxQV8BZtAU4fexSHd90vBCM-3ZxxSIAOu8Vkwbdqjqf-GReq2Gr85n7COwHk3EQIjdKR3kixsY1JSZ8gb1BQT19OtHsIZZPhA'",
     "output_type": "error",
     "traceback": [
      "\u001b[0;31m---------------------------------------------------------------------------\u001b[0m",
      "\u001b[0;31mKeyError\u001b[0m                                  Traceback (most recent call last)",
      "\u001b[0;32m/var/folders/95/yq8wmdds681c3_0zf3jmfjv40000gn/T/ipykernel_51200/132930440.py\u001b[0m in \u001b[0;36m<module>\u001b[0;34m\u001b[0m\n\u001b[1;32m     39\u001b[0m \u001b[0;34m\u001b[0m\u001b[0m\n\u001b[1;32m     40\u001b[0m \u001b[0;31m# save the access token\u001b[0m\u001b[0;34m\u001b[0m\u001b[0;34m\u001b[0m\u001b[0m\n\u001b[0;32m---> 41\u001b[0;31m \u001b[0maccess_token\u001b[0m \u001b[0;34m=\u001b[0m \u001b[0maccess_token_response_data\u001b[0m\u001b[0;34m[\u001b[0m\u001b[0;34m'AQA1Vzo1bjaWjGQ3ceXNJBv2XdpNrlQWpCBxQV8BZtAU4fexSHd90vBCM-3ZxxSIAOu8Vkwbdqjqf-GReq2Gr85n7COwHk3EQIjdKR3kixsY1JSZ8gb1BQT19OtHsIZZPhA'\u001b[0m\u001b[0;34m]\u001b[0m\u001b[0;34m\u001b[0m\u001b[0;34m\u001b[0m\u001b[0m\n\u001b[0m\u001b[1;32m     42\u001b[0m \u001b[0;34m\u001b[0m\u001b[0m\n\u001b[1;32m     43\u001b[0m \u001b[0mprint\u001b[0m\u001b[0;34m(\u001b[0m\u001b[0maccess_token\u001b[0m\u001b[0;34m)\u001b[0m\u001b[0;34m\u001b[0m\u001b[0;34m\u001b[0m\u001b[0m\n",
      "\u001b[0;31mKeyError\u001b[0m: 'AQA1Vzo1bjaWjGQ3ceXNJBv2XdpNrlQWpCBxQV8BZtAU4fexSHd90vBCM-3ZxxSIAOu8Vkwbdqjqf-GReq2Gr85n7COwHk3EQIjdKR3kixsY1JSZ8gb1BQT19OtHsIZZPhA'"
     ]
    }
   ],
   "source": [
    "import requests\n",
    "# URLS\n",
    "AUTH_URL = 'https://accounts.spotify.com/authorize'\n",
    "TOKEN_URL = 'https://accounts.spotify.com/api/token'\n",
    "BASE_URL = 'https://api.spotify.com/v1/'\n",
    "\n",
    "\n",
    "# Make a request to the /authorize endpoint to get an authorization code\n",
    "auth_code = requests.get(AUTH_URL, {\n",
    "    'client_id': '04a8f64c30e4496dbe4d9f146638e4f8',\n",
    "    'response_type': 'AQBTvSN__nvVAuCstuZnP6pGd837jd_j2RQ0uTlJGPyJzoVaV2jx6aRZhozXgA-fK5zfx3Mmt1JYE_n7OML1_mdIj2zhRfIGu3mU2bjM70Dxwmn2DupkPmdFL5IpO0OuXWEqh27mVBIlgec2KliY1EDxfcNayfZoEgFtT4sMarSi4VphG8EJcUDxeRYqYQ',\n",
    "    'redirect_uri': 'http://localhost/',\n",
    "    'scope': 'playlist-modify-private',\n",
    "})\n",
    "print(auth_code)\n",
    "\n",
    "\n",
    "auth_header = base64.urlsafe_b64encode(('04a8f64c30e4496dbe4d9f146638e4f8' + ':' + '281aa85d59d14aa499f03747efe36247').encode())\n",
    "headers = {\n",
    "    'Content-Type': 'application/x-www-form-urlencoded',\n",
    "    'Authorization': 'Basic %s' % auth_header.decode()\n",
    "}\n",
    "\n",
    "payload = {\n",
    "    'grant_type': 'authorization_code',\n",
    "    'code': 'AQBIJ2bZT7ikwlagUlYDSgDfwv28yEi9PVMXH2hb2RMtp6lxLLJmOiyHPJv5Roq5CuAP-Ou10QJYDFNcmOZrQ-yGR0_1Pju-Z4MqjQCT7tSWbytgeGJdE4CNOcG62e86LB5w4UJvSnWUa-4JOMcbWTqM14HH6PzRNh6gFVuJJASE7qPs087FvdCb20As7w',\n",
    "    'redirect_uri': 'http://localhost/',\n",
    "    'client_id': '04a8f64c30e4496dbe4d9f146638e4f8',\n",
    "    'client_secret':'281aa85d59d14aa499f03747efe36247',\n",
    "}\n",
    "\n",
    "# Make a request to the /token endpoint to get an access token\n",
    "access_token_request = requests.post(url=TOKEN_URL, data=payload, headers=headers)\n",
    "\n",
    "# convert the response to JSON\n",
    "access_token_response_data = access_token_request.json()\n",
    "\n",
    "print(access_token_response_data)\n",
    "\n",
    "# save the access token\n",
    "access_token = access_token_response_data['AQA1Vzo1bjaWjGQ3ceXNJBv2XdpNrlQWpCBxQV8BZtAU4fexSHd90vBCM-3ZxxSIAOu8Vkwbdqjqf-GReq2Gr85n7COwHk3EQIjdKR3kixsY1JSZ8gb1BQT19OtHsIZZPhA']\n",
    "\n",
    "print(access_token)"
   ]
  }
 ],
 "metadata": {
  "interpreter": {
   "hash": "738c8b695ea4cfcf3eac9a75324abbf7ffe7bec1b901880d0366ebca6dba2721"
  },
  "kernelspec": {
   "display_name": "Python 3.9.7 ('base')",
   "language": "python",
   "name": "python3"
  },
  "language_info": {
   "codemirror_mode": {
    "name": "ipython",
    "version": 3
   },
   "file_extension": ".py",
   "mimetype": "text/x-python",
   "name": "python",
   "nbconvert_exporter": "python",
   "pygments_lexer": "ipython3",
   "version": "3.9.7"
  },
  "orig_nbformat": 4
 },
 "nbformat": 4,
 "nbformat_minor": 2
}
