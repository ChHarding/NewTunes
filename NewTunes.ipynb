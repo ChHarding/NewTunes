{
 "cells": [
  {
   "cell_type": "code",
   "execution_count": 2,
   "metadata": {},
   "outputs": [
    {
     "name": "stdout",
     "output_type": "stream",
     "text": [
      "Recommended Songs:\n",
      "1) \"What She Came For\" by Franz Ferdinand\n",
      "2) \"Tulsa Time\" by Don Williams\n",
      "3) \"Ace In The Hole\" by George Strait\n",
      "4) \"Ghost Ship\" by Blur\n",
      "5) \"Set to Attack\" by Albert Hammond Jr\n",
      "6) \"Fresh Eyes\" by Andy Grammer\n",
      "7) \"Sweet Emotion\" by The Kooks\n",
      "8) \"Seven Nation Army\" by The White Stripes\n",
      "9) \"Heartbreaker\" by Metronomy\n",
      "10) \"Coffee & TV\" by Blur\n",
      "201\n",
      "201\n",
      "Get ready to jam to some new tunes! Your playlist is ready at https://open.spotify.com/playlist/4SQaqV724INzbhqofkeAFq\n"
     ]
    }
   ],
   "source": [
    "\n",
    "import requests\n",
    "\n",
    "print(\"Welcome to NewTunes\")\n",
    "\n",
    "# Establish the Authorization for the spotify web API\n",
    "#for v1 this token only lasts 1 hour, I need to request a refresh token for v2\n",
    "endpoint_url = \"https://api.spotify.com/v1/recommendations?\"\n",
    "token = \"BQBNwBQ91VgAu5Uh6wiUTXD_8CWwRJIAk-TIUJqzGhou2Z5kwo0BBpa3joVKx0IEZbTIf8BPUE6VynyZIRocHmqZWPUqSmbEe-JA96KdhGTjQDR1jJe5GbTAkCP5bKS6oXpIP92yNK88Hqf8DDluo0WYKvX2-PuBvHB0XgUkp0picM-kEvHyEtUNrw2dv1jeQI4\"\n",
    "user_id = \"31wucvvdiny7qzjaexc37olzd7uy\"\n",
    "\n",
    "\n",
    "# Set my filters here\n",
    "limit=10\n",
    "market=\"US\"\n",
    "seed_genres=\"country\"\n",
    "target_danceability=0.9\n",
    "uris = [] \n",
    "seed_artists = '0XNa1vTidXlvJ2gHSsRi4A'\n",
    "seed_tracks='55SfSsxneljXOk5S3NVZIW'\n",
    "\n",
    "# Query\n",
    "query = f'{endpoint_url}limit={limit}&market={market}&seed_genres={seed_genres}&target_danceability={target_danceability}'\n",
    "query += f'&seed_artists={seed_artists}'\n",
    "query += f'&seed_tracks={seed_tracks}'\n",
    "\n",
    "response = requests.get(query, \n",
    "               headers={\"Content-Type\":\"application/json\", \n",
    "                        \"Authorization\":f\"Bearer {token}\"})\n",
    "json_response = response.json()\n",
    "\n",
    "print('Recommended Songs:')\n",
    "for i,j in enumerate(json_response['tracks']):\n",
    "            uris.append(j['uri'])\n",
    "            print(f\"{i+1}) \\\"{j['name']}\\\" by {j['artists'][0]['name']}\")\n",
    "\n",
    "\n",
    "# Create the new playlist\n",
    "\n",
    "import requests\n",
    "import json \n",
    "\n",
    "endpoint_url = f\"https://api.spotify.com/v1/users/{user_id}/playlists\"\n",
    "\n",
    "request_body = json.dumps({\n",
    "          \"name\": \"New Tunes Song Dump\",\n",
    "          \"description\": \"This is a playlist created based on Spotifys algorithm that generates cool music I wanna hear\",\n",
    "          \"public\": False\n",
    "        })\n",
    "response = requests.post(url = endpoint_url, data = request_body, headers={\"Content-Type\":\"application/json\", \n",
    "                        \"Authorization\":f\"Bearer {token}\"})\n",
    "\n",
    "url = response.json()['external_urls']['spotify']\n",
    "print(response.status_code)\n",
    "\n",
    "\n",
    "# Fills playlist with the recs\n",
    "\n",
    "playlist_id = response.json()['id']\n",
    "\n",
    "endpoint_url = f\"https://api.spotify.com/v1/playlists/{playlist_id}/tracks\"\n",
    "\n",
    "request_body = json.dumps({\n",
    "          \"uris\" : uris\n",
    "        })\n",
    "response = requests.post(url = endpoint_url, data = request_body, headers={\"Content-Type\":\"application/json\", \n",
    "                        \"Authorization\":f\"Bearer {token}\"})\n",
    "\n",
    "print(response.status_code)\n",
    "\n",
    "print(f'Get ready to jam to some new tunes! Your playlist is ready at {url}')"
   ]
  }
 ],
 "metadata": {
  "interpreter": {
   "hash": "738c8b695ea4cfcf3eac9a75324abbf7ffe7bec1b901880d0366ebca6dba2721"
  },
  "kernelspec": {
   "display_name": "Python 3.9.7 ('base')",
   "language": "python",
   "name": "python3"
  },
  "language_info": {
   "codemirror_mode": {
    "name": "ipython",
    "version": 3
   },
   "file_extension": ".py",
   "mimetype": "text/x-python",
   "name": "python",
   "nbconvert_exporter": "python",
   "pygments_lexer": "ipython3",
   "version": "3.9.7"
  },
  "orig_nbformat": 4
 },
 "nbformat": 4,
 "nbformat_minor": 2
}
