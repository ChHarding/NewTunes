{
 "cells": [
  {
   "cell_type": "code",
   "execution_count": 2,
   "metadata": {},
   "outputs": [
    {
     "name": "stdout",
     "output_type": "stream",
     "text": [
      "Recommended Songs:\n"
     ]
    },
    {
     "ename": "KeyError",
     "evalue": "'tracks'",
     "output_type": "error",
     "traceback": [
      "\u001b[0;31m---------------------------------------------------------------------------\u001b[0m",
      "\u001b[0;31mKeyError\u001b[0m                                  Traceback (most recent call last)",
      "\u001b[0;32m/var/folders/95/yq8wmdds681c3_0zf3jmfjv40000gn/T/ipykernel_55211/2941167826.py\u001b[0m in \u001b[0;36m<module>\u001b[0;34m\u001b[0m\n\u001b[1;32m     27\u001b[0m \u001b[0;34m\u001b[0m\u001b[0m\n\u001b[1;32m     28\u001b[0m \u001b[0mprint\u001b[0m\u001b[0;34m(\u001b[0m\u001b[0;34m'Recommended Songs:'\u001b[0m\u001b[0;34m)\u001b[0m\u001b[0;34m\u001b[0m\u001b[0;34m\u001b[0m\u001b[0m\n\u001b[0;32m---> 29\u001b[0;31m \u001b[0;32mfor\u001b[0m \u001b[0mi\u001b[0m\u001b[0;34m,\u001b[0m\u001b[0mj\u001b[0m \u001b[0;32min\u001b[0m \u001b[0menumerate\u001b[0m\u001b[0;34m(\u001b[0m\u001b[0mjson_response\u001b[0m\u001b[0;34m[\u001b[0m\u001b[0;34m'tracks'\u001b[0m\u001b[0;34m]\u001b[0m\u001b[0;34m)\u001b[0m\u001b[0;34m:\u001b[0m\u001b[0;34m\u001b[0m\u001b[0;34m\u001b[0m\u001b[0m\n\u001b[0m\u001b[1;32m     30\u001b[0m             \u001b[0muris\u001b[0m\u001b[0;34m.\u001b[0m\u001b[0mappend\u001b[0m\u001b[0;34m(\u001b[0m\u001b[0mj\u001b[0m\u001b[0;34m[\u001b[0m\u001b[0;34m'uri'\u001b[0m\u001b[0;34m]\u001b[0m\u001b[0;34m)\u001b[0m\u001b[0;34m\u001b[0m\u001b[0;34m\u001b[0m\u001b[0m\n\u001b[1;32m     31\u001b[0m             \u001b[0mprint\u001b[0m\u001b[0;34m(\u001b[0m\u001b[0;34mf\"{i+1}) \\\"{j['name']}\\\" by {j['artists'][0]['name']}\"\u001b[0m\u001b[0;34m)\u001b[0m\u001b[0;34m\u001b[0m\u001b[0;34m\u001b[0m\u001b[0m\n",
      "\u001b[0;31mKeyError\u001b[0m: 'tracks'"
     ]
    }
   ],
   "source": [
    "\n",
    "import requests\n",
    "# Establish the Authorization for the spotify web API\n",
    "#for v1 this token only lasts 1 hour, I need to request a refresh token for v2\n",
    "endpoint_url = \"https://api.spotify.com/v1/recommendations?\"\n",
    "refresh_token = \"AQA1Vzo1bjaWjGQ3ceXNJBv2XdpNrlQWpCBxQV8BZtAU4fexSHd90vBCM-3ZxxSIAOu8Vkwbdqjqf-GReq2Gr85n7COwHk3EQIjdKR3kixsY1JSZ8gb1BQT19OtHsIZZPhA\"\n",
    "user_id = \"31wucvvdiny7qzjaexc37olzd7uy\"\n",
    "\n",
    "\n",
    "# Set my filters here\n",
    "limit=10\n",
    "market=\"US\"\n",
    "seed_genres=\"country\"\n",
    "target_danceability=0.9\n",
    "uris = [] \n",
    "seed_artists = '0XNa1vTidXlvJ2gHSsRi4A'\n",
    "seed_tracks='55SfSsxneljXOk5S3NVZIW'\n",
    "\n",
    "# Query\n",
    "query = f'{endpoint_url}limit={limit}&market={market}&seed_genres={seed_genres}&target_danceability={target_danceability}'\n",
    "query += f'&seed_artists={seed_artists}'\n",
    "query += f'&seed_tracks={seed_tracks}'\n",
    "\n",
    "response = requests.get(query, \n",
    "               headers={\"Content-Type\":\"application/json\", \n",
    "                        \"Authorization\":f\"Bearer {refresh_token}\"})\n",
    "json_response = response.json()\n",
    "\n",
    "print('Recommended Songs:')\n",
    "for i,j in enumerate(json_response['tracks']):\n",
    "            uris.append(j['uri'])\n",
    "            print(f\"{i+1}) \\\"{j['name']}\\\" by {j['artists'][0]['name']}\")\n",
    "\n",
    "\n",
    "# Create the new playlist\n",
    "\n",
    "import requests\n",
    "import json \n",
    "\n",
    "endpoint_url = f\"https://api.spotify.com/v1/users/{user_id}/playlists\"\n",
    "\n",
    "request_body = json.dumps({\n",
    "          \"name\": \"New Tunes Song Dump\",\n",
    "          \"description\": \"This is a playlist created based on Spotifys algorithm that generates cool music I wanna hear\",\n",
    "          \"public\": False\n",
    "        })\n",
    "response = requests.post(url = endpoint_url, data = request_body, headers={\"Content-Type\":\"application/json\", \n",
    "                        \"Authorization\":f\"Bearer {token}\"})\n",
    "\n",
    "url = response.json()['external_urls']['spotify']\n",
    "print(response.status_code)\n",
    "\n",
    "\n",
    "# Fills playlist with the recs\n",
    "\n",
    "playlist_id = response.json()['id']\n",
    "\n",
    "endpoint_url = f\"https://api.spotify.com/v1/playlists/{playlist_id}/tracks\"\n",
    "\n",
    "request_body = json.dumps({\n",
    "          \"uris\" : uris\n",
    "        })\n",
    "response = requests.post(url = endpoint_url, data = request_body, headers={\"Content-Type\":\"application/json\", \n",
    "                        \"Authorization\":f\"Bearer {token}\"})\n",
    "\n",
    "print(response.status_code)\n",
    "\n",
    "print(f'Get ready to jam to some new tunes! Your playlist is ready at {url}')"
   ]
  }
 ],
 "metadata": {
  "interpreter": {
   "hash": "738c8b695ea4cfcf3eac9a75324abbf7ffe7bec1b901880d0366ebca6dba2721"
  },
  "kernelspec": {
   "display_name": "Python 3.9.7 ('base')",
   "language": "python",
   "name": "python3"
  },
  "language_info": {
   "codemirror_mode": {
    "name": "ipython",
    "version": 3
   },
   "file_extension": ".py",
   "mimetype": "text/x-python",
   "name": "python",
   "nbconvert_exporter": "python",
   "pygments_lexer": "ipython3",
   "version": "3.9.7"
  },
  "orig_nbformat": 4
 },
 "nbformat": 4,
 "nbformat_minor": 2
}
